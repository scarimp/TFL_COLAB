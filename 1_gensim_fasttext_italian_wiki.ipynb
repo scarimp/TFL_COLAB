{
  "nbformat": 4,
  "nbformat_minor": 0,
  "metadata": {
    "colab": {
      "name": "1_gensim_fasttext_italian_wiki.ipynb",
      "version": "0.3.2",
      "provenance": [],
      "collapsed_sections": [],
      "include_colab_link": true
    },
    "kernelspec": {
      "name": "python3",
      "display_name": "Python 3"
    }
  },
  "cells": [
    {
      "cell_type": "markdown",
      "metadata": {
        "id": "view-in-github",
        "colab_type": "text"
      },
      "source": [
        "[View in Colaboratory](https://colab.research.google.com/github/scarimp/TFL_COLAB/blob/master/1_gensim_fasttext_italian_wiki.ipynb)"
      ]
    },
    {
      "metadata": {
        "id": "SoFM31smri2E",
        "colab_type": "text"
      },
      "cell_type": "markdown",
      "source": [
        "Working with Fasttext FM from [Manash Kumar Mandal](https://blog.manash.me/how-to-use-pre-trained-word-vectors-from-facebooks-fasttext-a71e6d55f27).\n",
        "\n",
        "Here the github repository.\n",
        "\n",
        "**Pre-trained word vectors** for 294 languages, trained on Wikipedia using fastText. These vectors in dimension 300 were obtained using the skip-gram model described in Bojanowski et al. (2016) with default parameters, enriching Word Vectors with Subword Information.\n",
        "\n",
        "Look also to [datascience.stackexchange](https://datascience.stackexchange.com/questions/10695/how-to-initialize-a-new-word2vec-model-with-pre-trained-model-weights?rq=1).\n"
      ]
    },
    {
      "metadata": {
        "id": "bB9k9Au4sHdd",
        "colab_type": "code",
        "colab": {
          "base_uri": "https://localhost:8080/",
          "height": 811
        },
        "outputId": "3575103b-3467-4154-fa78-991fc03daf12"
      },
      "cell_type": "code",
      "source": [
        "#!pip list\n",
        "!pip install gensim"
      ],
      "execution_count": 3,
      "outputs": [
        {
          "output_type": "stream",
          "text": [
            "Collecting gensim\n",
            "\u001b[?25l  Downloading https://files.pythonhosted.org/packages/86/f3/37504f07651330ddfdefa631ca5246974a60d0908216539efda842fd080f/gensim-3.5.0-cp36-cp36m-manylinux1_x86_64.whl (23.5MB)\n",
            "\u001b[K    100% |████████████████████████████████| 23.5MB 837kB/s \n",
            "\u001b[?25hRequirement already satisfied: numpy>=1.11.3 in /usr/local/lib/python3.6/dist-packages (from gensim) (1.14.5)\n",
            "Collecting smart-open>=1.2.1 (from gensim)\n",
            "  Downloading https://files.pythonhosted.org/packages/cf/3d/5f3a9a296d0ba8e00e263a8dee76762076b9eb5ddc254ccaa834651c8d65/smart_open-1.6.0.tar.gz\n",
            "Requirement already satisfied: scipy>=0.18.1 in /usr/local/lib/python3.6/dist-packages (from gensim) (0.19.1)\n",
            "Requirement already satisfied: six>=1.5.0 in /usr/local/lib/python3.6/dist-packages (from gensim) (1.11.0)\n",
            "Collecting boto>=2.32 (from smart-open>=1.2.1->gensim)\n",
            "\u001b[?25l  Downloading https://files.pythonhosted.org/packages/23/10/c0b78c27298029e4454a472a1919bde20cb182dab1662cec7f2ca1dcc523/boto-2.49.0-py2.py3-none-any.whl (1.4MB)\n",
            "\u001b[K    100% |████████████████████████████████| 1.4MB 12.7MB/s \n",
            "\u001b[?25hCollecting bz2file (from smart-open>=1.2.1->gensim)\n",
            "  Downloading https://files.pythonhosted.org/packages/61/39/122222b5e85cd41c391b68a99ee296584b2a2d1d233e7ee32b4532384f2d/bz2file-0.98.tar.gz\n",
            "Requirement already satisfied: requests in /usr/local/lib/python3.6/dist-packages (from smart-open>=1.2.1->gensim) (2.18.4)\n",
            "Collecting boto3 (from smart-open>=1.2.1->gensim)\n",
            "\u001b[?25l  Downloading https://files.pythonhosted.org/packages/1a/7b/0bd34c1d7562fa6855e788bdf86267c128d645770e274e8deb540fd4b9b8/boto3-1.7.57-py2.py3-none-any.whl (128kB)\n",
            "\u001b[K    100% |████████████████████████████████| 133kB 21.1MB/s \n",
            "\u001b[?25hRequirement already satisfied: certifi>=2017.4.17 in /usr/local/lib/python3.6/dist-packages (from requests->smart-open>=1.2.1->gensim) (2018.4.16)\n",
            "Requirement already satisfied: idna<2.7,>=2.5 in /usr/local/lib/python3.6/dist-packages (from requests->smart-open>=1.2.1->gensim) (2.6)\n",
            "Requirement already satisfied: urllib3<1.23,>=1.21.1 in /usr/local/lib/python3.6/dist-packages (from requests->smart-open>=1.2.1->gensim) (1.22)\n",
            "Requirement already satisfied: chardet<3.1.0,>=3.0.2 in /usr/local/lib/python3.6/dist-packages (from requests->smart-open>=1.2.1->gensim) (3.0.4)\n",
            "Collecting jmespath<1.0.0,>=0.7.1 (from boto3->smart-open>=1.2.1->gensim)\n",
            "  Downloading https://files.pythonhosted.org/packages/b7/31/05c8d001f7f87f0f07289a5fc0fc3832e9a57f2dbd4d3b0fee70e0d51365/jmespath-0.9.3-py2.py3-none-any.whl\n",
            "Collecting s3transfer<0.2.0,>=0.1.10 (from boto3->smart-open>=1.2.1->gensim)\n",
            "\u001b[?25l  Downloading https://files.pythonhosted.org/packages/d7/14/2a0004d487464d120c9fb85313a75cd3d71a7506955be458eebfe19a6b1d/s3transfer-0.1.13-py2.py3-none-any.whl (59kB)\n",
            "\u001b[K    100% |████████████████████████████████| 61kB 18.4MB/s \n",
            "\u001b[?25hCollecting botocore<1.11.0,>=1.10.57 (from boto3->smart-open>=1.2.1->gensim)\n",
            "\u001b[?25l  Downloading https://files.pythonhosted.org/packages/0f/2c/6bd4b3a3a456b9172fdd3a980492362af9b51d59366d5fedb55da0af3ad6/botocore-1.10.57-py2.py3-none-any.whl (4.4MB)\n",
            "\u001b[K    100% |████████████████████████████████| 4.4MB 3.2MB/s \n",
            "\u001b[?25hCollecting docutils>=0.10 (from botocore<1.11.0,>=1.10.57->boto3->smart-open>=1.2.1->gensim)\n",
            "\u001b[?25l  Downloading https://files.pythonhosted.org/packages/36/fa/08e9e6e0e3cbd1d362c3bbee8d01d0aedb2155c4ac112b19ef3cae8eed8d/docutils-0.14-py3-none-any.whl (543kB)\n",
            "\u001b[K    100% |████████████████████████████████| 552kB 15.4MB/s \n",
            "\u001b[?25hRequirement already satisfied: python-dateutil<3.0.0,>=2.1; python_version >= \"2.7\" in /usr/local/lib/python3.6/dist-packages (from botocore<1.11.0,>=1.10.57->boto3->smart-open>=1.2.1->gensim) (2.5.3)\n",
            "Building wheels for collected packages: smart-open, bz2file\n",
            "  Running setup.py bdist_wheel for smart-open ... \u001b[?25l-\b \b\\\b \bdone\n",
            "\u001b[?25h  Stored in directory: /content/.cache/pip/wheels/73/f1/9b/ccf93d4ba073b6f79b1ed9df68ab5ce048d8136d0efcf90b30\n",
            "  Running setup.py bdist_wheel for bz2file ... \u001b[?25l-\b \bdone\n",
            "\u001b[?25h  Stored in directory: /content/.cache/pip/wheels/81/75/d6/e1317bf09bf1af5a30befc2a007869fa6e1f516b8f7c591cb9\n",
            "Successfully built smart-open bz2file\n",
            "Installing collected packages: boto, bz2file, jmespath, docutils, botocore, s3transfer, boto3, smart-open, gensim\n",
            "Successfully installed boto-2.49.0 boto3-1.7.57 botocore-1.10.57 bz2file-0.98 docutils-0.14 gensim-3.5.0 jmespath-0.9.3 s3transfer-0.1.13 smart-open-1.6.0\n"
          ],
          "name": "stdout"
        }
      ]
    },
    {
      "metadata": {
        "id": "oB_5yfhXrrfF",
        "colab_type": "code",
        "colab": {
          "base_uri": "https://localhost:8080/",
          "height": 111
        },
        "outputId": "1d7272bb-b02f-4f61-b60f-0fb5d5c5e62a"
      },
      "cell_type": "code",
      "source": [
        "from __future__ import print_function\n",
        "import numpy as np\n",
        "import random\n",
        "import tensorflow as tf\n",
        "import nltk as nl\n",
        "import gensim\n",
        "import matplotlib as plt\n",
        "\n",
        "print(\"numpy vers.=\", np.__version__)\n",
        "print(\"tensorflow vers.=\", tf.__version__)\n",
        "print(\"nltk vers.=\", nl.__version__)\n",
        "print(\"gensim vers.=\", gensim.__version__)\n",
        "print(\"matplotlib vers.=\", plt.__version__)"
      ],
      "execution_count": 4,
      "outputs": [
        {
          "output_type": "stream",
          "text": [
            "numpy vers.= 1.14.5\n",
            "tensorflow vers.= 1.9.0-rc2\n",
            "nltk vers.= 3.2.5\n",
            "gensim vers.= 3.5.0\n",
            "matplotlib vers.= 2.1.2\n"
          ],
          "name": "stdout"
        }
      ]
    },
    {
      "metadata": {
        "id": "tYK7MzDOs1l2",
        "colab_type": "code",
        "colab": {
          "base_uri": "https://localhost:8080/",
          "height": 0
        },
        "outputId": "caeeb827-7ee1-47aa-8c49-dc7dd1bfe4a0"
      },
      "cell_type": "code",
      "source": [
        "from gensim.models import KeyedVectors\n",
        "# Creating the model\n",
        "it_model = KeyedVectors.load_word2vec_format('https://s3-us-west-1.amazonaws.com/fasttext-vectors/wiki.it.vec')\n",
        "it_model"
      ],
      "execution_count": 0,
      "outputs": []
    },
    {
      "metadata": {
        "id": "XDb64OQLQUHT",
        "colab_type": "code",
        "colab": {
          "base_uri": "https://localhost:8080/",
          "height": 36
        },
        "outputId": "94e33eae-8f38-443f-e62d-e027bbd458fb"
      },
      "cell_type": "code",
      "source": [
        "# Getting the tokens \n",
        "words = []\n",
        "for word in it_model.vocab:\n",
        "    words.append(word)\n",
        "\n",
        "# Printing out number of tokens available\n",
        "print(\"Number of Tokens: {}\".format(len(words)))"
      ],
      "execution_count": 13,
      "outputs": [
        {
          "output_type": "stream",
          "text": [
            "Number of Tokens: 871053\n"
          ],
          "name": "stdout"
        }
      ]
    },
    {
      "metadata": {
        "id": "4NkV5zt9QqGa",
        "colab_type": "code",
        "colab": {
          "base_uri": "https://localhost:8080/",
          "height": 36
        },
        "outputId": "17101247-d166-441e-8564-bd5c4694e0ab"
      },
      "cell_type": "code",
      "source": [
        "# Printing out the dimension of a word vector \n",
        "print(\"Dimension of a word vector: {}\".format(\n",
        "    len(it_model[words[0]])\n",
        "))"
      ],
      "execution_count": 17,
      "outputs": [
        {
          "output_type": "stream",
          "text": [
            "Dimension of a word vector: 300\n"
          ],
          "name": "stdout"
        }
      ]
    },
    {
      "metadata": {
        "id": "ctzSIJ0KQ2Vr",
        "colab_type": "code",
        "colab": {
          "base_uri": "https://localhost:8080/",
          "height": 960
        },
        "outputId": "19d9bb56-fbf4-4bb6-d3bc-2fb3d33ab62d"
      },
      "cell_type": "code",
      "source": [
        "# Print out the vector of a word \n",
        "print(\"Vector components of a word: {}\".format(\n",
        "    it_model[words[0]]\n",
        "))"
      ],
      "execution_count": 16,
      "outputs": [
        {
          "output_type": "stream",
          "text": [
            "Vector components of a word: [ 3.3795e-02 -1.7544e-02  2.5536e-02 -1.5358e-01  4.1421e-01  4.5707e-01\n",
            "  1.2454e-01 -9.9489e-02  1.3040e-01  5.2032e-01 -2.2110e-01  1.4737e-01\n",
            "  1.6640e-01 -1.1823e-01 -1.3008e-01 -5.0490e-01  5.9008e-01  2.4718e-03\n",
            "  2.7920e-02  1.6570e-01 -1.3485e-01  1.6096e-01  7.0532e-02 -8.0481e-02\n",
            "  2.9753e-02 -1.4702e-01 -1.0424e-01  1.8238e-01  1.0057e-01  2.0130e-01\n",
            "  1.3713e-01  1.7432e-01 -2.2095e-01 -1.7741e-01 -3.2525e-01  1.3575e-01\n",
            "  7.8731e-02 -4.0539e-01  2.1751e-02 -1.4919e-01  3.0200e-01 -9.9151e-02\n",
            " -1.9201e-01  4.3207e-01 -6.2661e-02  5.6057e-02 -3.0339e-01 -2.2859e-02\n",
            "  1.4218e-01  6.8054e-02  5.1317e-02 -4.3531e-02 -1.2934e-01 -3.0483e-02\n",
            " -7.0046e-03  2.3159e-01  6.4715e-02 -4.5078e-02  3.8989e-01  3.7618e-01\n",
            "  5.6262e-02 -2.3954e-01  5.5242e-02 -1.2803e-01 -2.0887e-01 -6.6318e-02\n",
            " -1.8209e-01  8.2813e-02 -5.2937e-01 -2.4841e-01 -3.6483e-01  2.4408e-01\n",
            " -1.7857e-01  2.4326e-01 -1.1353e-01  9.4183e-02  1.3148e-03 -3.7275e-01\n",
            " -3.2950e-01 -1.2377e-01 -8.5255e-02  1.1389e-01  2.6218e-01  8.7860e-02\n",
            "  2.4175e-01  1.8998e-01  5.1039e-01  1.1239e-01 -1.2024e-02  7.4391e-02\n",
            " -2.9849e-01 -3.1234e-01  1.9715e-02  2.7557e-01  3.6627e-02  2.6186e-01\n",
            "  3.7072e-01  2.2936e-01  3.6863e-02 -4.4500e-02 -8.9479e-02  3.3833e-02\n",
            "  2.4538e-01  2.1207e-03  4.4206e-01 -6.3821e-02  3.9760e-02  8.3522e-02\n",
            " -1.5154e-02 -3.1164e-01  3.5901e-01 -1.7540e-01  1.9294e-01 -2.1769e-01\n",
            "  1.9975e-02 -2.5742e-01  9.4336e-02 -1.6306e-01  3.0611e-01 -2.7018e-01\n",
            " -2.5344e-01 -1.2243e-01  1.8819e-01 -1.2703e-01 -8.5206e-02  3.4303e-01\n",
            "  2.1852e-01  3.7740e-02  7.6041e-02  3.4333e-01 -3.9031e-01 -4.9863e-02\n",
            "  2.2387e-01 -3.6486e-01 -7.2551e-02  3.6036e-01 -3.0205e-01 -1.7837e-01\n",
            " -4.1547e-01 -9.8693e-02  2.8877e-01 -3.5881e-01 -1.5309e-01 -1.3178e-01\n",
            "  3.7304e-01  5.3779e-02  1.4962e-01  1.8274e-01 -3.2523e-02  1.2961e-01\n",
            "  5.4537e-02  2.2537e-01 -2.7811e-01  2.4549e-01  7.1401e-02  4.7704e-01\n",
            " -3.1931e-01  1.0420e-01 -3.2793e-01  9.8512e-02  2.1333e-01 -1.5655e-01\n",
            "  9.4863e-03 -4.4964e-02  2.3518e-01 -4.0587e-02  1.5135e-01  1.8642e-02\n",
            " -5.2690e-02  2.9292e-02 -1.8318e-01  2.3514e-01  9.9177e-02 -5.4058e-03\n",
            "  8.6122e-02 -2.6430e-01  1.9371e-01  3.2987e-01  3.0978e-01 -3.1871e-01\n",
            "  1.0794e-01  2.4111e-01  8.8389e-02  1.3510e-02 -5.3309e-02  2.5332e-01\n",
            " -3.0793e-01  1.1899e-01 -2.1620e-02 -8.6516e-02  3.7208e-01  1.2110e-02\n",
            "  5.6878e-02  3.8028e-01 -8.0830e-02 -2.3098e-02  4.7350e-02 -2.4285e-01\n",
            "  2.5255e-01  3.2152e-02  2.7832e-01 -4.1044e-01 -2.9860e-01  1.4042e-01\n",
            "  4.6104e-01  1.4594e-01  2.6525e-02  1.3887e-01 -1.7809e-01 -5.6228e-02\n",
            " -2.9372e-01 -9.1859e-02 -1.0759e-01  2.6448e-01 -1.9242e-01 -2.4805e-01\n",
            " -1.1577e-01  3.8700e-01  5.7759e-02  1.0310e-01  1.5310e-01  2.6581e-02\n",
            "  3.1806e-01 -4.0678e-01  1.9264e-01  2.4188e-01 -1.7901e-02 -2.9405e-01\n",
            "  6.5029e-02 -4.8194e-02  1.8010e-01  3.6757e-01  1.3015e-01 -1.5289e-01\n",
            " -2.3343e-02  5.2288e-02  1.7531e-01 -1.9615e-01  1.9649e-01 -2.8988e-01\n",
            " -4.1885e-01 -2.7711e-01 -2.0940e-01 -2.4675e-02  4.5910e-02 -4.8044e-02\n",
            " -7.0298e-03 -2.6849e-01  3.5075e-03  2.6748e-02  1.0443e-01 -1.7939e-01\n",
            " -1.8622e-02  1.4282e-01 -1.3767e-01 -2.5120e-02 -4.1702e-01 -1.4014e-01\n",
            "  5.3154e-01 -2.6246e-01 -6.3487e-02 -1.5429e-02  1.5632e-03 -1.6197e-01\n",
            "  9.7516e-02 -5.8170e-03 -3.9628e-02  1.6475e-01  6.1121e-02 -6.7086e-01\n",
            " -3.4959e-03 -7.3284e-02  1.0697e-01 -1.5749e-01 -7.5096e-02 -2.0265e-02\n",
            " -1.9726e-01 -2.7090e-01 -7.3847e-03  1.7938e-01  1.2669e-01  2.0246e-01\n",
            "  3.3975e-01  3.2586e-02 -1.2771e-02  8.5251e-02 -2.4702e-01  3.7763e-03\n",
            " -6.4597e-02  2.5593e-01 -7.8313e-02  4.8726e-02  3.4750e-01 -4.7578e-04\n",
            "  3.3977e-02  1.6100e-02  6.4352e-02 -5.2134e-02 -1.8348e-01 -3.4610e-01]\n"
          ],
          "name": "stdout"
        }
      ]
    },
    {
      "metadata": {
        "id": "-qVZxzVzRbm6",
        "colab_type": "code",
        "colab": {
          "base_uri": "https://localhost:8080/",
          "height": 206
        },
        "outputId": "48e44dd4-ad5d-48ba-dec3-3013a0282e89"
      },
      "cell_type": "code",
      "source": [
        "# Pick a word \n",
        "find_similar_to = 'auto'\n",
        "\n",
        "# Finding out similar words [default= top 10]\n",
        "for similar_word in it_model.similar_by_word(find_similar_to):\n",
        "    print(\"Word: {0}, Similarity: {1:.2f}\".format(\n",
        "        similar_word[0], similar_word[1]\n",
        "))"
      ],
      "execution_count": 19,
      "outputs": [
        {
          "output_type": "stream",
          "text": [
            "Word: automobile, Similarity: 0.78\n",
            "Word: automobili, Similarity: 0.71\n",
            "Word: automobilina, Similarity: 0.70\n",
            "Word: automobile», Similarity: 0.70\n",
            "Word: automobiline, Similarity: 0.69\n",
            "Word: automobilia, Similarity: 0.68\n",
            "Word: autovetture, Similarity: 0.66\n",
            "Word: automobily, Similarity: 0.66\n",
            "Word: automobil, Similarity: 0.65\n",
            "Word: automobilista, Similarity: 0.64\n"
          ],
          "name": "stdout"
        }
      ]
    },
    {
      "metadata": {
        "id": "_a8wuzVSSRri",
        "colab_type": "code",
        "colab": {
          "base_uri": "https://localhost:8080/",
          "height": 206
        },
        "outputId": "e6a44696-3127-48d3-8c8d-dd45ef1bbf15"
      },
      "cell_type": "code",
      "source": [
        "# Pick a word \n",
        "find_similar_to = 'città'\n",
        "\n",
        "# Finding out similar words [default= top 10]\n",
        "for similar_word in it_model.similar_by_word(find_similar_to):\n",
        "    print(\"Word: {0}, Similarity: {1:.2f}\".format(\n",
        "        similar_word[0], similar_word[1]\n",
        "))"
      ],
      "execution_count": 20,
      "outputs": [
        {
          "output_type": "stream",
          "text": [
            "Word: cittadina, Similarity: 0.75\n",
            "Word: città…, Similarity: 0.75\n",
            "Word: città,, Similarity: 0.68\n",
            "Word: ,città, Similarity: 0.67\n",
            "Word: cittadine, Similarity: 0.66\n",
            "Word: città/, Similarity: 0.66\n",
            "Word: ‘città, Similarity: 0.65\n",
            "Word: cittadina», Similarity: 0.62\n",
            "Word: capitale, Similarity: 0.61\n",
            "Word: città/capitale, Similarity: 0.60\n"
          ],
          "name": "stdout"
        }
      ]
    },
    {
      "metadata": {
        "id": "QZsRPFUkSg5o",
        "colab_type": "code",
        "colab": {
          "base_uri": "https://localhost:8080/",
          "height": 206
        },
        "outputId": "5382088f-f0a3-47ff-9209-c5834f3a8eba"
      },
      "cell_type": "code",
      "source": [
        "# Pick a word \n",
        "find_similar_to = 'castrignano'\n",
        "\n",
        "# Finding out similar words [default= top 10]\n",
        "for similar_word in it_model.similar_by_word(find_similar_to):\n",
        "    print(\"Word: {0}, Similarity: {1:.2f}\".format(\n",
        "        similar_word[0], similar_word[1]\n",
        "))"
      ],
      "execution_count": 25,
      "outputs": [
        {
          "output_type": "stream",
          "text": [
            "Word: castrignanò, Similarity: 0.92\n",
            "Word: trignano, Similarity: 0.87\n",
            "Word: petrignano, Similarity: 0.83\n",
            "Word: costrignano, Similarity: 0.82\n",
            "Word: caprignano, Similarity: 0.79\n",
            "Word: orignano, Similarity: 0.78\n",
            "Word: cirignano, Similarity: 0.77\n",
            "Word: gignano, Similarity: 0.76\n",
            "Word: pignano, Similarity: 0.76\n",
            "Word: cerfignano, Similarity: 0.76\n"
          ],
          "name": "stdout"
        }
      ]
    },
    {
      "metadata": {
        "id": "8jA3Fz0aUb_G",
        "colab_type": "code",
        "colab": {
          "base_uri": "https://localhost:8080/",
          "height": 206
        },
        "outputId": "d071096d-0187-46a0-fbfc-4c568542d7ad"
      },
      "cell_type": "code",
      "source": [
        "# Pick a word \n",
        "find_similar_to = 'papa'\n",
        "\n",
        "# Finding out similar words [default= top 10]\n",
        "for similar_word in it_model.similar_by_word(find_similar_to):\n",
        "    print(\"Word: {0}, Similarity: {1:.2f}\".format(\n",
        "        similar_word[0], similar_word[1]\n",
        "))"
      ],
      "execution_count": 26,
      "outputs": [
        {
          "output_type": "stream",
          "text": [
            "Word: pontefice, Similarity: 0.84\n",
            "Word: innocenzo, Similarity: 0.80\n",
            "Word: pio, Similarity: 0.77\n",
            "Word: antipapa, Similarity: 0.76\n",
            "Word: papale, Similarity: 0.75\n",
            "Word: pontificato, Similarity: 0.75\n",
            "Word: pontefice», Similarity: 0.74\n",
            "Word: clemente, Similarity: 0.74\n",
            "Word: sisto, Similarity: 0.71\n",
            "Word: pontefices, Similarity: 0.71\n"
          ],
          "name": "stdout"
        }
      ]
    },
    {
      "metadata": {
        "id": "agk9-_TTUnAT",
        "colab_type": "code",
        "colab": {
          "base_uri": "https://localhost:8080/",
          "height": 206
        },
        "outputId": "b9c217af-7427-489e-a34e-84dc23b16779"
      },
      "cell_type": "code",
      "source": [
        "# Pick a word \n",
        "find_similar_to = 'papavero'\n",
        "\n",
        "# Finding out similar words [default= top 10]\n",
        "for similar_word in it_model.similar_by_word(find_similar_to):\n",
        "    print(\"Word: {0}, Similarity: {1:.2f}\".format(\n",
        "        similar_word[0], similar_word[1]\n",
        "))"
      ],
      "execution_count": 27,
      "outputs": [
        {
          "output_type": "stream",
          "text": [
            "Word: papaver, Similarity: 0.88\n",
            "Word: papaveri, Similarity: 0.82\n",
            "Word: papaverina, Similarity: 0.78\n",
            "Word: papaveracee, Similarity: 0.77\n",
            "Word: papaveracea, Similarity: 0.77\n",
            "Word: papaverales, Similarity: 0.69\n",
            "Word: papaveretalia, Similarity: 0.68\n",
            "Word: papaveraceae, Similarity: 0.64\n",
            "Word: papava, Similarity: 0.63\n",
            "Word: garofano, Similarity: 0.62\n"
          ],
          "name": "stdout"
        }
      ]
    },
    {
      "metadata": {
        "id": "cOg2_byMU0VC",
        "colab_type": "code",
        "colab": {
          "base_uri": "https://localhost:8080/",
          "height": 206
        },
        "outputId": "19333df3-3457-471b-e7ba-7e8d9ca7479d"
      },
      "cell_type": "code",
      "source": [
        "# Pick a word \n",
        "find_similar_to = 'cucina'\n",
        "\n",
        "# Finding out similar words [default= top 10]\n",
        "for similar_word in it_model.similar_by_word(find_similar_to):\n",
        "    print(\"Word: {0}, Similarity: {1:.2f}\".format(\n",
        "        similar_word[0], similar_word[1]\n",
        "))"
      ],
      "execution_count": 28,
      "outputs": [
        {
          "output_type": "stream",
          "text": [
            "Word: cucina», Similarity: 0.76\n",
            "Word: cucinata, Similarity: 0.73\n",
            "Word: /cucina, Similarity: 0.73\n",
            "Word: cucine, Similarity: 0.72\n",
            "Word: cucinato, Similarity: 0.72\n",
            "Word: cucinare, Similarity: 0.71\n",
            "Word: cucinati, Similarity: 0.70\n",
            "Word: cucin, Similarity: 0.69\n",
            "Word: gastronomia, Similarity: 0.69\n",
            "Word: culinaria, Similarity: 0.69\n"
          ],
          "name": "stdout"
        }
      ]
    },
    {
      "metadata": {
        "id": "WymnKJcVVAqD",
        "colab_type": "code",
        "colab": {
          "base_uri": "https://localhost:8080/",
          "height": 206
        },
        "outputId": "127a5365-05b3-4354-e512-193f4c6e67c2"
      },
      "cell_type": "code",
      "source": [
        "# Pick a word \n",
        "find_similar_to = 'andiamo'\n",
        "\n",
        "# Finding out similar words [default= top 10]\n",
        "for similar_word in it_model.similar_by_word(find_similar_to):\n",
        "    print(\"Word: {0}, Similarity: {1:.2f}\".format(\n",
        "        similar_word[0], similar_word[1]\n",
        "))"
      ],
      "execution_count": 29,
      "outputs": [
        {
          "output_type": "stream",
          "text": [
            "Word: andiamoci, Similarity: 0.86\n",
            "Word: mandiamo, Similarity: 0.78\n",
            "Word: andiamocene, Similarity: 0.76\n",
            "Word: cominciamo, Similarity: 0.75\n",
            "Word: torniamo, Similarity: 0.74\n",
            "Word: incominciamo, Similarity: 0.74\n",
            "Word: iniziamo, Similarity: 0.73\n",
            "Word: domandiamoci, Similarity: 0.73\n",
            "Word: continuiamo, Similarity: 0.73\n",
            "Word: passiamoci, Similarity: 0.72\n"
          ],
          "name": "stdout"
        }
      ]
    },
    {
      "metadata": {
        "id": "c--ZM36WVeBQ",
        "colab_type": "code",
        "colab": {
          "base_uri": "https://localhost:8080/",
          "height": 111
        },
        "outputId": "39a7f58d-d096-43ca-abc3-07023390a1f5"
      },
      "cell_type": "code",
      "source": [
        "for word in range(5):\n",
        "  print (it_model.vocab.items)\n",
        "  \n",
        " \n",
        "#it_model.vocab.items"
      ],
      "execution_count": 51,
      "outputs": [
        {
          "output_type": "stream",
          "text": [
            "<built-in method items of dict object at 0x7f1921f9e5e8>\n",
            "<built-in method items of dict object at 0x7f1921f9e5e8>\n",
            "<built-in method items of dict object at 0x7f1921f9e5e8>\n",
            "<built-in method items of dict object at 0x7f1921f9e5e8>\n",
            "<built-in method items of dict object at 0x7f1921f9e5e8>\n"
          ],
          "name": "stdout"
        }
      ]
    },
    {
      "metadata": {
        "id": "ZU2tYqNUY1-g",
        "colab_type": "code",
        "colab": {
          "base_uri": "https://localhost:8080/",
          "height": 206
        },
        "outputId": "5ad74e9d-1abb-4e51-9c58-b73a4995d56e"
      },
      "cell_type": "code",
      "source": [
        "# Test words \n",
        "word_add = ['roma', 'francia']\n",
        "word_sub = ['parigi']\n",
        "\n",
        "# Word vector addition and subtraction \n",
        "for resultant_word in it_model.most_similar(\n",
        "    positive=word_add, negative=word_sub\n",
        "):\n",
        "    print(\"Word : {0} , Similarity: {1:.2f}\".format(\n",
        "        resultant_word[0], resultant_word[1]\n",
        "))"
      ],
      "execution_count": 52,
      "outputs": [
        {
          "output_type": "stream",
          "text": [
            "Word : spagna , Similarity: 0.57\n",
            "Word : italia , Similarity: 0.57\n",
            "Word : spagna, , Similarity: 0.53\n",
            "Word : lazia , Similarity: 0.52\n",
            "Word : lazio , Similarity: 0.52\n",
            "Word : viterbo , Similarity: 0.51\n",
            "Word : germania , Similarity: 0.50\n",
            "Word : anagni , Similarity: 0.50\n",
            "Word : civitavecchiese , Similarity: 0.49\n",
            "Word : spagna» , Similarity: 0.49\n"
          ],
          "name": "stdout"
        }
      ]
    },
    {
      "metadata": {
        "id": "ojESwYYhbYhA",
        "colab_type": "code",
        "colab": {
          "base_uri": "https://localhost:8080/",
          "height": 94
        },
        "outputId": "5b6eec6a-2fc7-4cfb-f546-1524d2bdaaf5"
      },
      "cell_type": "code",
      "source": [
        "it_model.wv.vocab.keys"
      ],
      "execution_count": 60,
      "outputs": [
        {
          "output_type": "stream",
          "text": [
            "/usr/local/lib/python3.6/dist-packages/ipykernel_launcher.py:1: DeprecationWarning: Call to deprecated `wv` (Attribute will be removed in 4.0.0, use self instead).\n",
            "  \"\"\"Entry point for launching an IPython kernel.\n"
          ],
          "name": "stderr"
        },
        {
          "output_type": "execute_result",
          "data": {
            "text/plain": [
              "<function dict.keys>"
            ]
          },
          "metadata": {
            "tags": []
          },
          "execution_count": 60
        }
      ]
    },
    {
      "metadata": {
        "id": "iZ6c0FX-dNG6",
        "colab_type": "code",
        "colab": {
          "base_uri": "https://localhost:8080/",
          "height": 564
        },
        "outputId": "7eeccf33-b95f-45c9-8b3d-5d45058c6a88"
      },
      "cell_type": "code",
      "source": [
        "#for i in range(5):\n",
        "  #print(it_model.vectors.item[i])\n",
        "docvec =it_model.vectors.item\n",
        "dir(docvec)"
      ],
      "execution_count": 72,
      "outputs": [
        {
          "output_type": "execute_result",
          "data": {
            "text/plain": [
              "['__call__',\n",
              " '__class__',\n",
              " '__delattr__',\n",
              " '__dir__',\n",
              " '__doc__',\n",
              " '__eq__',\n",
              " '__format__',\n",
              " '__ge__',\n",
              " '__getattribute__',\n",
              " '__gt__',\n",
              " '__hash__',\n",
              " '__init__',\n",
              " '__init_subclass__',\n",
              " '__le__',\n",
              " '__lt__',\n",
              " '__module__',\n",
              " '__name__',\n",
              " '__ne__',\n",
              " '__new__',\n",
              " '__qualname__',\n",
              " '__reduce__',\n",
              " '__reduce_ex__',\n",
              " '__repr__',\n",
              " '__self__',\n",
              " '__setattr__',\n",
              " '__sizeof__',\n",
              " '__str__',\n",
              " '__subclasshook__',\n",
              " '__text_signature__']"
            ]
          },
          "metadata": {
            "tags": []
          },
          "execution_count": 72
        }
      ]
    }
  ]
}