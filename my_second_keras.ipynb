{
  "nbformat": 4,
  "nbformat_minor": 0,
  "metadata": {
    "colab": {
      "name": "my_second_keras.ipynb",
      "version": "0.3.2",
      "provenance": []
    },
    "kernelspec": {
      "name": "python3",
      "display_name": "Python 3"
    }
  },
  "cells": [
    {
      "cell_type": "markdown",
      "metadata": {
        "id": "view-in-github",
        "colab_type": "text"
      },
      "source": [
        "[View in Colaboratory](https://colab.research.google.com/github/scarimp/TFL_COLAB/blob/master/my_second_keras.ipynb)"
      ]
    },
    {
      "metadata": {
        "id": "MOdo98n5CSiY",
        "colab_type": "code",
        "colab": {
          "base_uri": "https://localhost:8080/",
          "height": 111
        },
        "outputId": "8dc54880-9ec3-4032-b4a0-e85658123bf9"
      },
      "cell_type": "code",
      "source": [
        "import numpy as np\n",
        "import random\n",
        "import tensorflow as tf\n",
        "import keras \n",
        "import numpy as np\n",
        "import matplotlib as plt\n",
        "#import matplotlib.pyplot as plt\n",
        "\n",
        "print(\"keras vers.=\", keras.__version__)\n",
        "print(\"tensorflow vers.=\", tf.__version__)\n",
        "print(\"numpy vers.=\", np.__version__)\n",
        "print(\"matplotlib vers.=\", plt.__version__)"
      ],
      "execution_count": 1,
      "outputs": [
        {
          "output_type": "stream",
          "text": [
            "keras vers.= 2.1.6\n",
            "tensorflow vers.= 1.7.0\n",
            "numpy vers.= 1.14.2\n",
            "matplotlib vers.= 2.1.2\n"
          ],
          "name": "stdout"
        },
        {
          "output_type": "stream",
          "text": [
            "Using TensorFlow backend.\n"
          ],
          "name": "stderr"
        }
      ]
    },
    {
      "metadata": {
        "id": "EVkFm8xfC2Gk",
        "colab_type": "code",
        "colab": {}
      },
      "cell_type": "code",
      "source": [
        "from keras.models import Sequential\n",
        "from keras.layers import Dense, Activation\n",
        "\n",
        "# For a single-input model with 2 classes (binary classification):\n",
        "\n",
        "model = Sequential()\n",
        "model.add(Dense(32, activation='relu', input_dim=100))\n",
        "model.add(Dense(1, activation='sigmoid'))\n",
        "model.compile(optimizer='rmsprop',\n",
        "              loss='binary_crossentropy',\n",
        "              metrics=['accuracy'])\n",
        "\n",
        "# Generate dummy data\n",
        "#import numpy as np\n",
        "data = np.random.random((1000, 100))\n",
        "labels = np.random.randint(2, size=(1000, 1))\n",
        "\n"
      ],
      "execution_count": 0,
      "outputs": []
    },
    {
      "metadata": {
        "id": "PhAfLh4GLEwC",
        "colab_type": "code",
        "colab": {
          "base_uri": "https://localhost:8080/",
          "height": 338
        },
        "outputId": "7e0982c4-ee96-410b-861f-e3dc3a9b431e"
      },
      "cell_type": "code",
      "source": [
        "print ('data',data[:1][:1])"
      ],
      "execution_count": 12,
      "outputs": [
        {
          "output_type": "stream",
          "text": [
            "data [[0.66851296 0.14716132 0.93888863 0.63583381 0.70145707 0.05716004\n",
            "  0.27579291 0.96483523 0.93966339 0.79554183 0.11897813 0.31934989\n",
            "  0.2906586  0.93578145 0.7612636  0.21484954 0.83694569 0.00443053\n",
            "  0.12006536 0.7031648  0.24567732 0.98840972 0.09911984 0.52738141\n",
            "  0.8325974  0.6377863  0.61686525 0.58389947 0.76971398 0.0442421\n",
            "  0.20393954 0.47086999 0.14949087 0.65472564 0.98716099 0.67626931\n",
            "  0.99939068 0.33100882 0.07835084 0.13620157 0.56385533 0.97779207\n",
            "  0.02222883 0.9089391  0.7222225  0.94825484 0.87997813 0.19604968\n",
            "  0.14856304 0.05005297 0.491951   0.44996078 0.22847091 0.6477161\n",
            "  0.45740753 0.09586269 0.58020887 0.93375185 0.32393084 0.05900183\n",
            "  0.48339925 0.22952065 0.73475498 0.34143502 0.7963872  0.85812668\n",
            "  0.82892374 0.74568383 0.06649004 0.68777271 0.91673002 0.32295232\n",
            "  0.62256604 0.92913283 0.59766992 0.68593633 0.12126332 0.67372623\n",
            "  0.73403859 0.42403868 0.47211945 0.631264   0.78802791 0.66241588\n",
            "  0.11046276 0.77729697 0.62051992 0.23037589 0.85602508 0.012139\n",
            "  0.59141339 0.00560819 0.322766   0.86873057 0.06976002 0.83170341\n",
            "  0.97312134 0.5857634  0.26355147 0.88212414]]\n"
          ],
          "name": "stdout"
        }
      ]
    },
    {
      "metadata": {
        "id": "zxHTnlfuFtAI",
        "colab_type": "code",
        "colab": {
          "base_uri": "https://localhost:8080/",
          "height": 187
        },
        "outputId": "5b5e8836-55ff-4add-ce35-1fde8098596f"
      },
      "cell_type": "code",
      "source": [
        "print ('labels',labels[:9])"
      ],
      "execution_count": 8,
      "outputs": [
        {
          "output_type": "stream",
          "text": [
            "labels [[1]\n",
            " [1]\n",
            " [0]\n",
            " [1]\n",
            " [1]\n",
            " [0]\n",
            " [0]\n",
            " [1]\n",
            " [0]]\n"
          ],
          "name": "stdout"
        }
      ]
    },
    {
      "metadata": {
        "id": "UgEP43tFFPRK",
        "colab_type": "code",
        "colab": {
          "base_uri": "https://localhost:8080/",
          "height": 413
        },
        "outputId": "d8e25151-8686-47b5-fd2b-2a54373beb23"
      },
      "cell_type": "code",
      "source": [
        "# Train the model, iterating on the data in batches of 32 samples\n",
        "model.fit(data, labels, epochs=10, batch_size=32)"
      ],
      "execution_count": 9,
      "outputs": [
        {
          "output_type": "stream",
          "text": [
            "Epoch 1/10\n",
            "1000/1000 [==============================] - 0s 168us/step - loss: 0.7101 - acc: 0.5040\n",
            "Epoch 2/10\n",
            "1000/1000 [==============================] - 0s 49us/step - loss: 0.6961 - acc: 0.5340\n",
            "Epoch 3/10\n",
            "1000/1000 [==============================] - 0s 44us/step - loss: 0.6897 - acc: 0.5440\n",
            "Epoch 4/10\n",
            "1000/1000 [==============================] - 0s 52us/step - loss: 0.6877 - acc: 0.5430\n",
            "Epoch 5/10\n",
            "1000/1000 [==============================] - 0s 52us/step - loss: 0.6838 - acc: 0.5570\n",
            "Epoch 6/10\n",
            "1000/1000 [==============================] - 0s 50us/step - loss: 0.6822 - acc: 0.5490\n",
            "Epoch 7/10\n",
            "1000/1000 [==============================] - 0s 49us/step - loss: 0.6798 - acc: 0.5580\n",
            "Epoch 8/10\n",
            "1000/1000 [==============================] - 0s 48us/step - loss: 0.6759 - acc: 0.5760\n",
            "Epoch 9/10\n",
            "1000/1000 [==============================] - 0s 57us/step - loss: 0.6713 - acc: 0.5870\n",
            "Epoch 10/10\n",
            "1000/1000 [==============================] - 0s 49us/step - loss: 0.6693 - acc: 0.5930\n"
          ],
          "name": "stdout"
        },
        {
          "output_type": "execute_result",
          "data": {
            "text/plain": [
              "<keras.callbacks.History at 0x7fbc9a40ce80>"
            ]
          },
          "metadata": {
            "tags": []
          },
          "execution_count": 9
        }
      ]
    },
    {
      "metadata": {
        "id": "1RQGCgi6C43i",
        "colab_type": "code",
        "colab": {}
      },
      "cell_type": "code",
      "source": [
        ""
      ],
      "execution_count": 0,
      "outputs": []
    },
    {
      "metadata": {
        "id": "O7Wnn6b9C5iI",
        "colab_type": "code",
        "colab": {}
      },
      "cell_type": "code",
      "source": [
        ""
      ],
      "execution_count": 0,
      "outputs": []
    },
    {
      "metadata": {
        "id": "Lk2e_FqODGmo",
        "colab_type": "code",
        "colab": {}
      },
      "cell_type": "code",
      "source": [
        ""
      ],
      "execution_count": 0,
      "outputs": []
    }
  ]
}