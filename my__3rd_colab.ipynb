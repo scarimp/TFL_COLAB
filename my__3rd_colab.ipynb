{
  "nbformat": 4,
  "nbformat_minor": 0,
  "metadata": {
    "colab": {
      "name": "my_ 3rd_colab.ipynb",
      "version": "0.3.2",
      "provenance": []
    },
    "kernelspec": {
      "name": "python3",
      "display_name": "Python 3"
    }
  },
  "cells": [
    {
      "cell_type": "markdown",
      "metadata": {
        "id": "view-in-github",
        "colab_type": "text"
      },
      "source": [
        "[View in Colaboratory](https://colab.research.google.com/github/scarimp/TFL_COLAB/blob/master/my__3rd_colab.ipynb)"
      ]
    },
    {
      "metadata": {
        "id": "n7LurwSJOdSi",
        "colab_type": "text"
      },
      "cell_type": "markdown",
      "source": [
        "From **a toy example**  in https://github.com/ugik/notebooks/blob/master/Tensorflow%20ANN."
      ]
    },
    {
      "metadata": {
        "id": "ajlNT-qTR-hE",
        "colab_type": "toc"
      },
      "cell_type": "markdown",
      "source": [
        ""
      ]
    },
    {
      "metadata": {
        "id": "fX5X9ni9O1re",
        "colab_type": "code",
        "colab": {
          "base_uri": "https://localhost:8080/",
          "height": 74
        },
        "outputId": "c66029d2-3a36-4a33-bcd1-f89b938c0242"
      },
      "cell_type": "code",
      "source": [
        "\n",
        "import numpy as np\n",
        "import random\n",
        "import tensorflow as tf\n",
        "import numpy as np\n",
        "#import matplotlib.pyplot as plt\n",
        "import matplotlib as plt\n",
        "print(\"tensorflow vers.=\", tf.__version__)\n",
        "print(\"numpy vers.=\", np.__version__)\n",
        "print(\"matplotlib vers.=\", plt.__version__)"
      ],
      "execution_count": 7,
      "outputs": [
        {
          "output_type": "stream",
          "text": [
            "tensorflow vers.= 1.7.0\n",
            "numpy vers.= 1.14.2\n",
            "matplotlib vers.= 2.1.2\n"
          ],
          "name": "stdout"
        }
      ]
    }
  ]
}