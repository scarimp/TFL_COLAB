{
  "nbformat": 4,
  "nbformat_minor": 0,
  "metadata": {
    "colab": {
      "name": "my_first_colab.ipynb",
      "version": "0.3.2",
      "provenance": []
    },
    "kernelspec": {
      "name": "python3",
      "display_name": "Python 3"
    }
  },
  "cells": [
    {
      "cell_type": "markdown",
      "metadata": {
        "id": "view-in-github",
        "colab_type": "text"
      },
      "source": [
        "[View in Colaboratory](https://colab.research.google.com/github/scarimp/TFL_COLAB/blob/master/my_first_colab.ipynb)"
      ]
    },
    {
      "metadata": {
        "id": "1ipnONlM0ytw",
        "colab_type": "code",
        "colab": {
          "base_uri": "https://localhost:8080/",
          "height": 1102
        },
        "outputId": "da3c67ed-8584-4a62-95ef-9527439e9f41"
      },
      "cell_type": "code",
      "source": [
        "!pip install --upgrade tensorflow\n"
      ],
      "execution_count": 2,
      "outputs": [
        {
          "output_type": "stream",
          "text": [
            "Collecting tensorflow\n",
            "  Downloading https://files.pythonhosted.org/packages/38/4a/42ba8d00a50a9fafc88dd5935246ecc64ffe1f6a0258ef535ffb9652140b/tensorflow-1.7.0-cp36-cp36m-manylinux1_x86_64.whl (48.0MB)\n",
            "\u001b[K    100% |████████████████████████████████| 48.0MB 27kB/s \n",
            "\u001b[?25hRequirement already up-to-date: numpy>=1.13.3 in /usr/local/lib/python3.6/dist-packages (from tensorflow)\n",
            "Requirement already up-to-date: absl-py>=0.1.6 in /usr/local/lib/python3.6/dist-packages (from tensorflow)\n",
            "Collecting tensorboard<1.8.0,>=1.7.0 (from tensorflow)\n",
            "  Downloading https://files.pythonhosted.org/packages/0b/ec/65d4e8410038ca2a78c09034094403d231228d0ddcae7d470b223456e55d/tensorboard-1.7.0-py3-none-any.whl (3.1MB)\n",
            "\u001b[K    100% |████████████████████████████████| 3.1MB 427kB/s \n",
            "\u001b[?25hCollecting grpcio>=1.8.6 (from tensorflow)\n",
            "  Downloading https://files.pythonhosted.org/packages/c8/b8/00e703183b7ae5e02f161dafacdfa8edbd7234cb7434aef00f126a3a511e/grpcio-1.11.0-cp36-cp36m-manylinux1_x86_64.whl (8.8MB)\n",
            "\u001b[K    100% |████████████████████████████████| 8.8MB 151kB/s \n",
            "\u001b[?25hRequirement already up-to-date: gast>=0.2.0 in /usr/local/lib/python3.6/dist-packages (from tensorflow)\n",
            "Requirement already up-to-date: termcolor>=1.1.0 in /usr/local/lib/python3.6/dist-packages (from tensorflow)\n",
            "Requirement already up-to-date: six>=1.10.0 in /usr/local/lib/python3.6/dist-packages (from tensorflow)\n",
            "Requirement already up-to-date: astor>=0.6.0 in /usr/local/lib/python3.6/dist-packages (from tensorflow)\n",
            "Collecting wheel>=0.26 (from tensorflow)\n",
            "  Downloading https://files.pythonhosted.org/packages/1b/d2/22cde5ea9af055f81814f9f2545f5ed8a053eb749c08d186b369959189a8/wheel-0.31.0-py2.py3-none-any.whl (41kB)\n",
            "\u001b[K    100% |████████████████████████████████| 51kB 4.8MB/s \n",
            "\u001b[?25hCollecting protobuf>=3.4.0 (from tensorflow)\n",
            "  Downloading https://files.pythonhosted.org/packages/74/ad/ecd865eb1ba1ff7f6bd6bcb731a89d55bc0450ced8d457ed2d167c7b8d5f/protobuf-3.5.2.post1-cp36-cp36m-manylinux1_x86_64.whl (6.4MB)\n",
            "\u001b[K    100% |████████████████████████████████| 6.4MB 201kB/s \n",
            "\u001b[?25hRequirement already up-to-date: werkzeug>=0.11.10 in /usr/local/lib/python3.6/dist-packages (from tensorboard<1.8.0,>=1.7.0->tensorflow)\n",
            "Requirement already up-to-date: markdown>=2.6.8 in /usr/local/lib/python3.6/dist-packages (from tensorboard<1.8.0,>=1.7.0->tensorflow)\n",
            "Requirement already up-to-date: html5lib==0.9999999 in /usr/local/lib/python3.6/dist-packages (from tensorboard<1.8.0,>=1.7.0->tensorflow)\n",
            "Requirement already up-to-date: bleach==1.5.0 in /usr/local/lib/python3.6/dist-packages (from tensorboard<1.8.0,>=1.7.0->tensorflow)\n",
            "Collecting setuptools (from protobuf>=3.4.0->tensorflow)\n",
            "  Downloading https://files.pythonhosted.org/packages/20/d7/04a0b689d3035143e2ff288f4b9ee4bf6ed80585cc121c90bfd85a1a8c2e/setuptools-39.0.1-py2.py3-none-any.whl (569kB)\n",
            "\u001b[K    100% |████████████████████████████████| 573kB 1.9MB/s \n",
            "\u001b[?25hInstalling collected packages: wheel, setuptools, protobuf, tensorboard, grpcio, tensorflow\n",
            "  Found existing installation: wheel 0.30.0\n",
            "    Uninstalling wheel-0.30.0:\n",
            "      Successfully uninstalled wheel-0.30.0\n",
            "  Found existing installation: setuptools 36.2.7\n",
            "    Not uninstalling setuptools at /usr/lib/python3/dist-packages, outside environment /usr\n",
            "  Found existing installation: protobuf 3.5.2\n",
            "    Uninstalling protobuf-3.5.2:\n",
            "      Successfully uninstalled protobuf-3.5.2\n",
            "  Found existing installation: tensorboard 1.6.0\n",
            "    Uninstalling tensorboard-1.6.0:\n",
            "      Successfully uninstalled tensorboard-1.6.0\n",
            "  Found existing installation: grpcio 1.10.0\n",
            "    Uninstalling grpcio-1.10.0:\n",
            "      Successfully uninstalled grpcio-1.10.0\n",
            "  Found existing installation: tensorflow 1.6.0\n"
          ],
          "name": "stdout"
        },
        {
          "output_type": "stream",
          "text": [
            "    Uninstalling tensorflow-1.6.0:\n",
            "      Successfully uninstalled tensorflow-1.6.0\n",
            "Successfully installed grpcio-1.11.0 protobuf-3.5.2.post1 setuptools-39.0.1 tensorboard-1.7.0 tensorflow-1.7.0 wheel-0.31.0\n"
          ],
          "name": "stdout"
        },
        {
          "output_type": "error",
          "ename": "NameError",
          "evalue": "ignored",
          "traceback": [
            "\u001b[0;31m---------------------------------------------------------------------------\u001b[0m",
            "\u001b[0;31mNameError\u001b[0m                                 Traceback (most recent call last)",
            "\u001b[0;32m<ipython-input-2-4ad280f63188>\u001b[0m in \u001b[0;36m<module>\u001b[0;34m()\u001b[0m\n\u001b[1;32m      1\u001b[0m \u001b[0mget_ipython\u001b[0m\u001b[0;34m(\u001b[0m\u001b[0;34m)\u001b[0m\u001b[0;34m.\u001b[0m\u001b[0msystem\u001b[0m\u001b[0;34m(\u001b[0m\u001b[0;34m'pip install --upgrade tensorflow'\u001b[0m\u001b[0;34m)\u001b[0m\u001b[0;34m\u001b[0m\u001b[0m\n\u001b[0;32m----> 2\u001b[0;31m \u001b[0mtensorflow\u001b[0m\u001b[0;34m\u001b[0m\u001b[0m\n\u001b[0m",
            "\u001b[0;31mNameError\u001b[0m: name 'tensorflow' is not defined"
          ]
        }
      ]
    },
    {
      "metadata": {
        "id": "Pg_i8WZ11nE8",
        "colab_type": "code",
        "colab": {
          "base_uri": "https://localhost:8080/",
          "height": 131
        },
        "outputId": "f9b5d070-6e21-47e6-93d9-62319c8d8604"
      },
      "cell_type": "code",
      "source": [
        "from __future__ import absolute_import, division, print_function\n",
        "\n",
        "import tensorflow as tf\n",
        "import tensorflow.contrib.eager as tfe\n",
        "\n",
        "tf.enable_eager_execution()\n",
        "\n",
        "print(\"TensorFlow version: {}\".format(tf.VERSION))\n",
        "print(\"Eager execution: {}\".format(tf.executing_eagerly()))\n"
      ],
      "execution_count": 5,
      "outputs": [
        {
          "output_type": "stream",
          "text": [
            "WARNING:tensorflow:From /usr/local/lib/python3.6/dist-packages/tensorflow/contrib/learn/python/learn/datasets/base.py:198: retry (from tensorflow.contrib.learn.python.learn.datasets.base) is deprecated and will be removed in a future version.\n",
            "Instructions for updating:\n",
            "Use the retry module or similar alternatives.\n",
            "TensorFlow version: 1.7.0\n",
            "Eager execution: True\n"
          ],
          "name": "stdout"
        }
      ]
    },
    {
      "metadata": {
        "id": "I5S_q7CP2vEA",
        "colab_type": "code",
        "colab": {
          "base_uri": "https://localhost:8080/",
          "height": 2545
        },
        "outputId": "860fc704-641e-4e0a-8b07-db3f65bedc67"
      },
      "cell_type": "code",
      "source": [
        "!pip list"
      ],
      "execution_count": 7,
      "outputs": [
        {
          "output_type": "stream",
          "text": [
            "Package                                    Version    \r\n",
            "------------------------------------------ -----------\r\n",
            "absl-py                                    0.2.0      \r\n",
            "astor                                      0.6.2      \r\n",
            "beautifulsoup4                             4.6.0      \r\n",
            "bleach                                     1.5.0      \r\n",
            "cachetools                                 2.0.1      \r\n",
            "certifi                                    2018.1.18  \r\n",
            "chardet                                    3.0.4      \r\n",
            "crcmod                                     1.7        \r\n",
            "cycler                                     0.10.0     \r\n",
            "decorator                                  4.2.1      \r\n",
            "dill                                       0.2.7.1    \r\n",
            "entrypoints                                0.2.3      \r\n",
            "future                                     0.15.2     \r\n",
            "futures                                    3.0.5      \r\n",
            "gapic-google-cloud-datastore-v1            0.15.3     \r\n",
            "gapic-google-cloud-error-reporting-v1beta1 0.15.3     \r\n",
            "gapic-google-cloud-logging-v2              0.91.3     \r\n",
            "gast                                       0.2.0      \r\n",
            "google-api-core                            0.1.4      \r\n",
            "google-api-python-client                   1.6.5      \r\n",
            "google-auth                                1.3.0      \r\n",
            "google-auth-httplib2                       0.0.3      \r\n",
            "google-auth-oauthlib                       0.2.0      \r\n",
            "google-cloud                               0.32.0     \r\n",
            "google-cloud-bigquery                      0.30.0     \r\n",
            "google-cloud-bigquery-datatransfer         0.1.1      \r\n",
            "google-cloud-bigtable                      0.28.1     \r\n",
            "google-cloud-container                     0.1.1      \r\n",
            "google-cloud-core                          0.28.1     \r\n",
            "google-cloud-datastore                     1.4.0      \r\n",
            "google-cloud-dns                           0.28.0     \r\n",
            "google-cloud-error-reporting               0.28.0     \r\n",
            "google-cloud-firestore                     0.28.0     \r\n",
            "google-cloud-language                      1.0.1      \r\n",
            "google-cloud-logging                       1.4.0      \r\n",
            "google-cloud-monitoring                    0.28.1     \r\n",
            "google-cloud-pubsub                        0.30.1     \n",
            "google-cloud-resource-manager              0.28.1     \n",
            "google-cloud-runtimeconfig                 0.28.1     \n",
            "google-cloud-spanner                       0.29.0     \n",
            "google-cloud-speech                        0.30.0     \n",
            "google-cloud-storage                       1.6.0      \n",
            "google-cloud-trace                         0.17.0     \n",
            "google-cloud-translate                     1.3.1      \n",
            "google-cloud-videointelligence             1.0.1      \n",
            "google-cloud-vision                        0.29.0     \n",
            "google-colab                               0.0.1a1    \n",
            "google-gax                                 0.15.16    \n",
            "google-resumable-media                     0.3.1      \n",
            "googleapis-common-protos                   1.5.3      \n",
            "grpc-google-iam-v1                         0.11.4     \n",
            "grpcio                                     1.11.0     \n",
            "h5py                                       2.7.1      \n",
            "html5lib                                   0.9999999  \n",
            "httplib2                                   0.10.3     \n",
            "idna                                       2.6        \n",
            "ipykernel                                  4.6.1      \n",
            "ipython                                    5.5.0      \n",
            "ipython-genutils                           0.2.0      \n",
            "Jinja2                                     2.8        \n",
            "jsonschema                                 2.5.1      \n",
            "jupyter-client                             5.2.3      \n",
            "jupyter-core                               4.4.0      \n",
            "Keras                                      2.1.5      \n",
            "Markdown                                   2.6.11     \n",
            "MarkupSafe                                 1.0        \n",
            "matplotlib                                 2.1.2      \n",
            "mistune                                    0.8.3      \n",
            "mpmath                                     1.0.0      \n",
            "nbconvert                                  5.3.1      \n",
            "nbformat                                   4.4.0      \n",
            "networkx                                   2.1        \n",
            "nltk                                       3.2.1      \n",
            "notebook                                   5.2.2      \n",
            "numpy                                      1.14.2     \n",
            "oauth2client                               4.1.2      \n",
            "oauthlib                                   2.0.6      \n",
            "olefile                                    0.45.1     \n",
            "opencv-python                              3.4.0.12   \n",
            "pandas                                     0.22.0     \n",
            "pandas-gbq                                 0.3.1      \n",
            "pandocfilters                              1.3.0      \n",
            "patsy                                      0.5.0      \n",
            "pexpect                                    4.4.0      \n",
            "pickleshare                                0.7.4      \n",
            "Pillow                                     4.0.0      \n",
            "pip                                        9.0.1      \n",
            "plotly                                     1.12.12    \n",
            "ply                                        3.8        \n",
            "portpicker                                 1.2.0      \n",
            "prompt-toolkit                             1.0.15     \n",
            "proto-google-cloud-datastore-v1            0.90.4     \n",
            "proto-google-cloud-error-reporting-v1beta1 0.15.3     \n",
            "proto-google-cloud-logging-v2              0.91.3     \n",
            "protobuf                                   3.5.2.post1\n",
            "psutil                                     4.3.1      \n",
            "ptyprocess                                 0.5.2      \n",
            "pyasn1                                     0.4.2      \n",
            "pyasn1-modules                             0.2.1      \n",
            "Pygments                                   2.1.3      \n",
            "pyparsing                                  2.2.0      \n",
            "python-dateutil                            2.5.3      \n",
            "pytz                                       2016.7     \n",
            "PyWavelets                                 0.5.2      \n",
            "PyYAML                                     3.11       \n",
            "pyzmq                                      16.0.4     \n",
            "requests                                   2.18.4     \n",
            "requests-oauthlib                          0.8.0      \n",
            "rsa                                        3.4.2      \n",
            "scikit-image                               0.13.1     \n",
            "scikit-learn                               0.19.1     \n",
            "scipy                                      0.19.1     \n",
            "seaborn                                    0.7.1      \n",
            "setuptools                                 39.0.1     \n",
            "simplegeneric                              0.8.1      \n",
            "six                                        1.11.0     \n",
            "statsmodels                                0.8.0      \n",
            "sympy                                      1.1.1      \n",
            "tensorboard                                1.7.0      \n",
            "tensorflow                                 1.7.0      \n",
            "termcolor                                  1.1.0      \n",
            "terminado                                  0.8.1      \n",
            "testpath                                   0.3.1      \n",
            "tornado                                    4.5.3      \n",
            "traitlets                                  4.3.2      \n",
            "uritemplate                                3.0.0      \n",
            "urllib3                                    1.22       \n",
            "wcwidth                                    0.1.7      \n",
            "webencodings                               0.5.1      \n",
            "Werkzeug                                   0.14.1     \n",
            "wheel                                      0.31.0     \n",
            "xgboost                                    0.7.post3  \n"
          ],
          "name": "stdout"
        }
      ]
    },
    {
      "metadata": {
        "id": "CHgtgGXO3dGO",
        "colab_type": "code",
        "colab": {
          "base_uri": "https://localhost:8080/",
          "height": 187
        },
        "outputId": "9419ec29-ced5-4f08-f18d-a334d7a3906e"
      },
      "cell_type": "code",
      "source": [
        "#pip --help\n",
        "#http://relativity.fi/blog/\n",
        "#https://relativity.fi/blog/python-packaging-opencv-on-wheels/\n",
        "!pip show opencv-python \n",
        "\n"
      ],
      "execution_count": 12,
      "outputs": [
        {
          "output_type": "stream",
          "text": [
            "Name: opencv-python\r\n",
            "Version: 3.4.0.12\r\n",
            "Summary: Wrapper package for OpenCV python bindings.\r\n",
            "Home-page: https://github.com/skvark/opencv-python\r\n",
            "Author: Olli-Pekka Heinisuo\r\n",
            "Author-email: UNKNOWN\r\n",
            "License: MIT\r\n",
            "Location: /usr/local/lib/python3.6/dist-packages\r\n",
            "Requires: numpy\r\n"
          ],
          "name": "stdout"
        }
      ]
    },
    {
      "metadata": {
        "id": "kWBbMg-jATAy",
        "colab_type": "code",
        "colab": {
          "base_uri": "https://localhost:8080/",
          "height": 36
        },
        "outputId": "511f0c46-4eca-4cba-c5f4-79b69a0ff892"
      },
      "cell_type": "code",
      "source": [
        "!pip --version\n"
      ],
      "execution_count": 13,
      "outputs": [
        {
          "output_type": "stream",
          "text": [
            "pip 9.0.1 from /usr/lib/python3/dist-packages (python 3.6)\r\n"
          ],
          "name": "stdout"
        }
      ]
    }
  ]
}